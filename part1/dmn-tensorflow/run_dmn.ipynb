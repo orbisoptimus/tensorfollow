{
 "cells": [
  {
   "cell_type": "code",
   "execution_count": 1,
   "metadata": {
    "collapsed": false
   },
   "outputs": [
    {
     "name": "stdout",
     "output_type": "stream",
     "text": [
      "README.md  main.py  models  paper  read_data.py  run_dmn.ipynb\tutils\r\n"
     ]
    }
   ],
   "source": [
    "!ls"
   ]
  },
  {
   "cell_type": "code",
   "execution_count": 2,
   "metadata": {
    "collapsed": true
   },
   "outputs": [],
   "source": [
    "!mkdir data"
   ]
  },
  {
   "cell_type": "code",
   "execution_count": 3,
   "metadata": {
    "collapsed": false
   },
   "outputs": [
    {
     "name": "stdout",
     "output_type": "stream",
     "text": [
      "README.md  data  main.py  models  paper  read_data.py  run_dmn.ipynb  utils\r\n"
     ]
    }
   ],
   "source": [
    "!ls"
   ]
  },
  {
   "cell_type": "code",
   "execution_count": 18,
   "metadata": {
    "collapsed": false
   },
   "outputs": [
    {
     "name": "stdout",
     "output_type": "stream",
     "text": [
      "  % Total    % Received % Xferd  Average Speed   Time    Time     Time  Current\n",
      "                                 Dload  Upload   Total   Spent    Left  Speed\n",
      "  0     0    0     0    0     0      0      0 --:--:--  0:00:19 --:--:--     0curl: (6) Could not resolve host: www.thespermwhale.com\n"
     ]
    }
   ],
   "source": [
    "!curl -O http://www.thespermwhale.com/jaseweston/babi/tasks_1-20_v1-2.tar.gz"
   ]
  },
  {
   "cell_type": "code",
   "execution_count": 11,
   "metadata": {
    "collapsed": false
   },
   "outputs": [],
   "source": [
    "!tar -xzf tasks_1-20_v1-2.tar.gz -C data/"
   ]
  },
  {
   "cell_type": "code",
   "execution_count": 13,
   "metadata": {
    "collapsed": false
   },
   "outputs": [
    {
     "name": "stdout",
     "output_type": "stream",
     "text": [
      "LICENSE.txt  README.txt  en  en-10k  hn  hn-10k  shuffled  shuffled-10k\r\n"
     ]
    }
   ],
   "source": [
    "!ls data/*"
   ]
  },
  {
   "cell_type": "code",
   "execution_count": 14,
   "metadata": {
    "collapsed": false
   },
   "outputs": [
    {
     "name": "stdout",
     "output_type": "stream",
     "text": [
      "data/tasks_1-20_v1-2/LICENSE.txt  data/tasks_1-20_v1-2/README.txt\r\n",
      "\r\n",
      "data/tasks_1-20_v1-2/en:\r\n",
      "qa10_indefinite-knowledge_test.txt   qa1_single-supporting-fact_test.txt\r\n",
      "qa10_indefinite-knowledge_train.txt  qa1_single-supporting-fact_train.txt\r\n",
      "qa11_basic-coreference_test.txt      qa20_agents-motivations_test.txt\r\n",
      "qa11_basic-coreference_train.txt     qa20_agents-motivations_train.txt\r\n",
      "qa12_conjunction_test.txt\t     qa2_two-supporting-facts_test.txt\r\n",
      "qa12_conjunction_train.txt\t     qa2_two-supporting-facts_train.txt\r\n",
      "qa13_compound-coreference_test.txt   qa3_three-supporting-facts_test.txt\r\n",
      "qa13_compound-coreference_train.txt  qa3_three-supporting-facts_train.txt\r\n",
      "qa14_time-reasoning_test.txt\t     qa4_two-arg-relations_test.txt\r\n",
      "qa14_time-reasoning_train.txt\t     qa4_two-arg-relations_train.txt\r\n",
      "qa15_basic-deduction_test.txt\t     qa5_three-arg-relations_test.txt\r\n",
      "qa15_basic-deduction_train.txt\t     qa5_three-arg-relations_train.txt\r\n",
      "qa16_basic-induction_test.txt\t     qa6_yes-no-questions_test.txt\r\n",
      "qa16_basic-induction_train.txt\t     qa6_yes-no-questions_train.txt\r\n",
      "qa17_positional-reasoning_test.txt   qa7_counting_test.txt\r\n",
      "qa17_positional-reasoning_train.txt  qa7_counting_train.txt\r\n",
      "qa18_size-reasoning_test.txt\t     qa8_lists-sets_test.txt\r\n",
      "qa18_size-reasoning_train.txt\t     qa8_lists-sets_train.txt\r\n",
      "qa19_path-finding_test.txt\t     qa9_simple-negation_test.txt\r\n",
      "qa19_path-finding_train.txt\t     qa9_simple-negation_train.txt\r\n",
      "\r\n",
      "data/tasks_1-20_v1-2/en-10k:\r\n",
      "qa10_indefinite-knowledge_test.txt   qa1_single-supporting-fact_test.txt\r\n",
      "qa10_indefinite-knowledge_train.txt  qa1_single-supporting-fact_train.txt\r\n",
      "qa11_basic-coreference_test.txt      qa20_agents-motivations_test.txt\r\n",
      "qa11_basic-coreference_train.txt     qa20_agents-motivations_train.txt\r\n",
      "qa12_conjunction_test.txt\t     qa2_two-supporting-facts_test.txt\r\n",
      "qa12_conjunction_train.txt\t     qa2_two-supporting-facts_train.txt\r\n",
      "qa13_compound-coreference_test.txt   qa3_three-supporting-facts_test.txt\r\n",
      "qa13_compound-coreference_train.txt  qa3_three-supporting-facts_train.txt\r\n",
      "qa14_time-reasoning_test.txt\t     qa4_two-arg-relations_test.txt\r\n",
      "qa14_time-reasoning_train.txt\t     qa4_two-arg-relations_train.txt\r\n",
      "qa15_basic-deduction_test.txt\t     qa5_three-arg-relations_test.txt\r\n",
      "qa15_basic-deduction_train.txt\t     qa5_three-arg-relations_train.txt\r\n",
      "qa16_basic-induction_test.txt\t     qa6_yes-no-questions_test.txt\r\n",
      "qa16_basic-induction_train.txt\t     qa6_yes-no-questions_train.txt\r\n",
      "qa17_positional-reasoning_test.txt   qa7_counting_test.txt\r\n",
      "qa17_positional-reasoning_train.txt  qa7_counting_train.txt\r\n",
      "qa18_size-reasoning_test.txt\t     qa8_lists-sets_test.txt\r\n",
      "qa18_size-reasoning_train.txt\t     qa8_lists-sets_train.txt\r\n",
      "qa19_path-finding_test.txt\t     qa9_simple-negation_test.txt\r\n",
      "qa19_path-finding_train.txt\t     qa9_simple-negation_train.txt\r\n",
      "\r\n",
      "data/tasks_1-20_v1-2/hn:\r\n",
      "qa10_indefinite-knowledge_test.txt   qa1_single-supporting-fact_test.txt\r\n",
      "qa10_indefinite-knowledge_train.txt  qa1_single-supporting-fact_train.txt\r\n",
      "qa11_basic-coreference_test.txt      qa20_agents-motivations_test.txt\r\n",
      "qa11_basic-coreference_train.txt     qa20_agents-motivations_train.txt\r\n",
      "qa12_conjunction_test.txt\t     qa2_two-supporting-facts_test.txt\r\n",
      "qa12_conjunction_train.txt\t     qa2_two-supporting-facts_train.txt\r\n",
      "qa13_compound-coreference_test.txt   qa3_three-supporting-facts_test.txt\r\n",
      "qa13_compound-coreference_train.txt  qa3_three-supporting-facts_train.txt\r\n",
      "qa14_time-reasoning_test.txt\t     qa4_two-arg-relations_test.txt\r\n",
      "qa14_time-reasoning_train.txt\t     qa4_two-arg-relations_train.txt\r\n",
      "qa15_basic-deduction_test.txt\t     qa5_three-arg-relations_test.txt\r\n",
      "qa15_basic-deduction_train.txt\t     qa5_three-arg-relations_train.txt\r\n",
      "qa16_basic-induction_test.txt\t     qa6_yes-no-questions_test.txt\r\n",
      "qa16_basic-induction_train.txt\t     qa6_yes-no-questions_train.txt\r\n",
      "qa17_positional-reasoning_test.txt   qa7_counting_test.txt\r\n",
      "qa17_positional-reasoning_train.txt  qa7_counting_train.txt\r\n",
      "qa18_size-reasoning_test.txt\t     qa8_lists-sets_test.txt\r\n",
      "qa18_size-reasoning_train.txt\t     qa8_lists-sets_train.txt\r\n",
      "qa19_path-finding_test.txt\t     qa9_simple-negation_test.txt\r\n",
      "qa19_path-finding_train.txt\t     qa9_simple-negation_train.txt\r\n",
      "\r\n",
      "data/tasks_1-20_v1-2/hn-10k:\r\n",
      "qa10_indefinite-knowledge_test.txt   qa1_single-supporting-fact_test.txt\r\n",
      "qa10_indefinite-knowledge_train.txt  qa1_single-supporting-fact_train.txt\r\n",
      "qa11_basic-coreference_test.txt      qa20_agents-motivations_test.txt\r\n",
      "qa11_basic-coreference_train.txt     qa20_agents-motivations_train.txt\r\n",
      "qa12_conjunction_test.txt\t     qa2_two-supporting-facts_test.txt\r\n",
      "qa12_conjunction_train.txt\t     qa2_two-supporting-facts_train.txt\r\n",
      "qa13_compound-coreference_test.txt   qa3_three-supporting-facts_test.txt\r\n",
      "qa13_compound-coreference_train.txt  qa3_three-supporting-facts_train.txt\r\n",
      "qa14_time-reasoning_test.txt\t     qa4_two-arg-relations_test.txt\r\n",
      "qa14_time-reasoning_train.txt\t     qa4_two-arg-relations_train.txt\r\n",
      "qa15_basic-deduction_test.txt\t     qa5_three-arg-relations_test.txt\r\n",
      "qa15_basic-deduction_train.txt\t     qa5_three-arg-relations_train.txt\r\n",
      "qa16_basic-induction_test.txt\t     qa6_yes-no-questions_test.txt\r\n",
      "qa16_basic-induction_train.txt\t     qa6_yes-no-questions_train.txt\r\n",
      "qa17_positional-reasoning_test.txt   qa7_counting_test.txt\r\n",
      "qa17_positional-reasoning_train.txt  qa7_counting_train.txt\r\n",
      "qa18_size-reasoning_test.txt\t     qa8_lists-sets_test.txt\r\n",
      "qa18_size-reasoning_train.txt\t     qa8_lists-sets_train.txt\r\n",
      "qa19_path-finding_test.txt\t     qa9_simple-negation_test.txt\r\n",
      "qa19_path-finding_train.txt\t     qa9_simple-negation_train.txt\r\n",
      "\r\n",
      "data/tasks_1-20_v1-2/shuffled:\r\n",
      "qa10_indefinite-knowledge_test.txt   qa1_single-supporting-fact_test.txt\r\n",
      "qa10_indefinite-knowledge_train.txt  qa1_single-supporting-fact_train.txt\r\n",
      "qa11_basic-coreference_test.txt      qa20_agents-motivations_test.txt\r\n",
      "qa11_basic-coreference_train.txt     qa20_agents-motivations_train.txt\r\n",
      "qa12_conjunction_test.txt\t     qa2_two-supporting-facts_test.txt\r\n",
      "qa12_conjunction_train.txt\t     qa2_two-supporting-facts_train.txt\r\n",
      "qa13_compound-coreference_test.txt   qa3_three-supporting-facts_test.txt\r\n",
      "qa13_compound-coreference_train.txt  qa3_three-supporting-facts_train.txt\r\n",
      "qa14_time-reasoning_test.txt\t     qa4_two-arg-relations_test.txt\r\n",
      "qa14_time-reasoning_train.txt\t     qa4_two-arg-relations_train.txt\r\n",
      "qa15_basic-deduction_test.txt\t     qa5_three-arg-relations_test.txt\r\n",
      "qa15_basic-deduction_train.txt\t     qa5_three-arg-relations_train.txt\r\n",
      "qa16_basic-induction_test.txt\t     qa6_yes-no-questions_test.txt\r\n",
      "qa16_basic-induction_train.txt\t     qa6_yes-no-questions_train.txt\r\n",
      "qa17_positional-reasoning_test.txt   qa7_counting_test.txt\r\n",
      "qa17_positional-reasoning_train.txt  qa7_counting_train.txt\r\n",
      "qa18_size-reasoning_test.txt\t     qa8_lists-sets_test.txt\r\n",
      "qa18_size-reasoning_train.txt\t     qa8_lists-sets_train.txt\r\n",
      "qa19_path-finding_test.txt\t     qa9_simple-negation_test.txt\r\n",
      "qa19_path-finding_train.txt\t     qa9_simple-negation_train.txt\r\n",
      "\r\n",
      "data/tasks_1-20_v1-2/shuffled-10k:\r\n",
      "qa10_indefinite-knowledge_test.txt   qa1_single-supporting-fact_test.txt\r\n",
      "qa10_indefinite-knowledge_train.txt  qa1_single-supporting-fact_train.txt\r\n",
      "qa11_basic-coreference_test.txt      qa20_agents-motivations_test.txt\r\n",
      "qa11_basic-coreference_train.txt     qa20_agents-motivations_train.txt\r\n",
      "qa12_conjunction_test.txt\t     qa2_two-supporting-facts_test.txt\r\n",
      "qa12_conjunction_train.txt\t     qa2_two-supporting-facts_train.txt\r\n",
      "qa13_compound-coreference_test.txt   qa3_three-supporting-facts_test.txt\r\n",
      "qa13_compound-coreference_train.txt  qa3_three-supporting-facts_train.txt\r\n",
      "qa14_time-reasoning_test.txt\t     qa4_two-arg-relations_test.txt\r\n",
      "qa14_time-reasoning_train.txt\t     qa4_two-arg-relations_train.txt\r\n",
      "qa15_basic-deduction_test.txt\t     qa5_three-arg-relations_test.txt\r\n",
      "qa15_basic-deduction_train.txt\t     qa5_three-arg-relations_train.txt\r\n",
      "qa16_basic-induction_test.txt\t     qa6_yes-no-questions_test.txt\r\n",
      "qa16_basic-induction_train.txt\t     qa6_yes-no-questions_train.txt\r\n",
      "qa17_positional-reasoning_test.txt   qa7_counting_test.txt\r\n",
      "qa17_positional-reasoning_train.txt  qa7_counting_train.txt\r\n",
      "qa18_size-reasoning_test.txt\t     qa8_lists-sets_test.txt\r\n",
      "qa18_size-reasoning_train.txt\t     qa8_lists-sets_train.txt\r\n",
      "qa19_path-finding_test.txt\t     qa9_simple-negation_test.txt\r\n",
      "qa19_path-finding_train.txt\t     qa9_simple-negation_train.txt\r\n"
     ]
    }
   ],
   "source": [
    "!ls data/*/*"
   ]
  },
  {
   "cell_type": "code",
   "execution_count": 16,
   "metadata": {
    "collapsed": false
   },
   "outputs": [
    {
     "name": "stdout",
     "output_type": "stream",
     "text": [
      "1 Mary moved to the bathroom.\r\n",
      "2 John went to the hallway.\r\n",
      "3 Where is Mary? \tbathroom\t1\r\n",
      "4 Daniel went back to the hallway.\r\n",
      "5 Sandra moved to the garden.\r\n",
      "6 Where is Daniel? \thallway\t4\r\n",
      "7 John moved to the office.\r\n",
      "8 Sandra journeyed to the bathroom.\r\n",
      "9 Where is Daniel? \thallway\t4\r\n",
      "10 Mary moved to the hallway.\r\n"
     ]
    }
   ],
   "source": [
    "!head data/tasks_1-20_v1-2/en/qa1_single-supporting-fact_train.txt"
   ]
  },
  {
   "cell_type": "code",
   "execution_count": 17,
   "metadata": {
    "collapsed": false
   },
   "outputs": [
    {
     "name": "stdout",
     "output_type": "stream",
     "text": [
      "1 John travelled to the hallway.\r\n",
      "2 Mary journeyed to the bathroom.\r\n",
      "3 Where is John? \thallway\t1\r\n",
      "4 Daniel went back to the bathroom.\r\n",
      "5 John moved to the bedroom.\r\n",
      "6 Where is Mary? \tbathroom\t2\r\n",
      "7 John went to the hallway.\r\n",
      "8 Sandra journeyed to the kitchen.\r\n",
      "9 Where is Sandra? \tkitchen\t8\r\n",
      "10 Sandra travelled to the hallway.\r\n"
     ]
    }
   ],
   "source": [
    "!head data/tasks_1-20_v1-2/en/qa1_single-supporting-fact_test.txt"
   ]
  },
  {
   "cell_type": "code",
   "execution_count": null,
   "metadata": {
    "collapsed": true
   },
   "outputs": [],
   "source": []
  }
 ],
 "metadata": {
  "kernelspec": {
   "display_name": "Python 3",
   "language": "python",
   "name": "python3"
  },
  "language_info": {
   "codemirror_mode": {
    "name": "ipython",
    "version": 3
   },
   "file_extension": ".py",
   "mimetype": "text/x-python",
   "name": "python",
   "nbconvert_exporter": "python",
   "pygments_lexer": "ipython3",
   "version": "3.4.3"
  }
 },
 "nbformat": 4,
 "nbformat_minor": 0
}
